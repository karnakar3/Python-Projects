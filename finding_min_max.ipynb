{
 "cells": [
  {
   "cell_type": "code",
   "execution_count": 1,
   "id": "7e985ad8",
   "metadata": {},
   "outputs": [
    {
     "name": "stdout",
     "output_type": "stream",
     "text": [
      "minimum is 8 maximum is 98\n"
     ]
    }
   ],
   "source": [
    "##devide and conquer method\n",
    "\n",
    "##finding max and minimum\n",
    "\n",
    "def findmin_max(arr,i,j):\n",
    "    if(i==j):\n",
    "        min=arr[i]\n",
    "        max=arr[i]\n",
    "    elif(i==j-1):\n",
    "        if(arr[i]>arr[j]):\n",
    "            min=arr[j]\n",
    "            max=arr[i]\n",
    "        else:\n",
    "            min=arr[i]\n",
    "            max=arr[j]\n",
    "    else:\n",
    "        mid=i+(j-i)//2\n",
    "        min1,max1=findmin_max(arr,i,mid)\n",
    "        min2,max2=findmin_max(arr,mid+1,j)\n",
    "        if(min1<min2):\n",
    "            min=min1\n",
    "        else:\n",
    "            min=min2\n",
    "        if(max1<max2):\n",
    "            max=max2\n",
    "        else:\n",
    "            max=max1\n",
    "    return min,max         \n",
    "\n",
    "arr=[12,20,18,52,45,30,90,75,70,8,69,80,98,53]\n",
    "i=0\n",
    "j=len(arr)-1\n",
    "min,max=findmin_max(arr,i,j)\n",
    "print(\"minimum is\",min,\"maximum is\",max)"
   ]
  },
  {
   "cell_type": "code",
   "execution_count": null,
   "id": "cee8125b",
   "metadata": {},
   "outputs": [],
   "source": []
  }
 ],
 "metadata": {
  "kernelspec": {
   "display_name": "Python 3 (ipykernel)",
   "language": "python",
   "name": "python3"
  },
  "language_info": {
   "codemirror_mode": {
    "name": "ipython",
    "version": 3
   },
   "file_extension": ".py",
   "mimetype": "text/x-python",
   "name": "python",
   "nbconvert_exporter": "python",
   "pygments_lexer": "ipython3",
   "version": "3.11.5"
  }
 },
 "nbformat": 4,
 "nbformat_minor": 5
}
